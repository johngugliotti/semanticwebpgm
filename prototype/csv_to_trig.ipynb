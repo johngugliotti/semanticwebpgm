{
 "cells": [
  {
   "cell_type": "code",
   "execution_count": 21,
   "id": "372b619e-4ddd-4587-a0e2-89df8754214e",
   "metadata": {},
   "outputs": [
    {
     "data": {
      "text/plain": [
       "57642"
      ]
     },
     "execution_count": 21,
     "metadata": {},
     "output_type": "execute_result"
    }
   ],
   "source": [
    "import csv\n",
    "from rdflib import *\n",
    "\n",
    "csvin ='kennedys.csv'\n",
    "\n",
    "fin = open(csvin,'r')\n",
    "reader = csv.reader(fin)\n",
    "h=next(reader)\n",
    "ng = ConjunctiveGraph()\n",
    "for r in reader:\n",
    "    if len(r) < 4: continue\n",
    "    s = URIRef(r[1].replace(\"<\",\"\").replace(\">\",\"\"))\n",
    "    p = URIRef(r[2].replace(\"<\",\"\").replace(\">\",\"\"))\n",
    "    o = None\n",
    "    if r[3] != 'L':\n",
    "        o=URIRef(r[3].replace(\"<\",\"\").replace(\">\",\"\"))\n",
    "    else:\n",
    "        if r[6] is not None:\n",
    "            o=Literal(r[4],lang=r[6])\n",
    "        else:\n",
    "            o=Literal(r[4],datatype=URIRef(r[5]))\n",
    "    g = URIRef(r[0].replace(\"<\",\"\").replace(\">\",\"\"))\n",
    "    sg = ng.get_context(g)\n",
    "    sg.add((s,p,o))\n",
    "    \n",
    "open(csvin.replace('.csv','.trig'),'w').write(ng.serialize(format = 'trig'))"
   ]
  },
  {
   "cell_type": "code",
   "execution_count": 23,
   "id": "f09b155c-9aca-4165-8c2e-2d52307b139e",
   "metadata": {},
   "outputs": [],
   "source": [
    "!python csv_2_trig.py kennedys.csv"
   ]
  },
  {
   "cell_type": "code",
   "execution_count": 24,
   "id": "f286a145-7ebf-4989-ae7e-ea5771c0db82",
   "metadata": {},
   "outputs": [
    {
     "name": "stdout",
     "output_type": "stream",
     "text": [
      "/Users/johngugliotti/Documents/dev/blackcape/research_spikes/a\n"
     ]
    }
   ],
   "source": [
    "!pwd"
   ]
  },
  {
   "cell_type": "code",
   "execution_count": null,
   "id": "ea5aa3ff-c651-4c58-9a0e-85fafde1168e",
   "metadata": {},
   "outputs": [],
   "source": []
  }
 ],
 "metadata": {
  "kernelspec": {
   "display_name": "Python 3 (ipykernel)",
   "language": "python",
   "name": "python3"
  },
  "language_info": {
   "codemirror_mode": {
    "name": "ipython",
    "version": 3
   },
   "file_extension": ".py",
   "mimetype": "text/x-python",
   "name": "python",
   "nbconvert_exporter": "python",
   "pygments_lexer": "ipython3",
   "version": "3.9.7"
  }
 },
 "nbformat": 4,
 "nbformat_minor": 5
}
