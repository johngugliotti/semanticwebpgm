{
 "cells": [
  {
   "cell_type": "code",
   "execution_count": 65,
   "id": "1ad765d3-4299-4528-a9c7-8a7f1a1a6dd7",
   "metadata": {},
   "outputs": [],
   "source": [
    "from namespace_builder import *  \n",
    "from rdflib import *\n",
    "oi = \"/Users/johngugliotti/Documents/dev/CommonCoreOntologies/cco-merged/MergedAllCoreOntology-v1.4-2023-04-07.ttl\"\n",
    "CCO = build_namespace_from_file(ontology_resource_locator=oi, rdf_format='ttl')"
   ]
  },
  {
   "cell_type": "code",
   "execution_count": 66,
   "id": "c4ffca08-54ab-40e3-8816-496bd1c90f09",
   "metadata": {},
   "outputs": [],
   "source": [
    "named_graph_layer = Namespace(\"https://example.com/named_graph/model/\")\n",
    "ng = Graph()\n",
    "ng.add(( URIRef(named_graph_layer), RDF.type, OWL.Ontology))\n",
    "ng.add(( URIRef(named_graph_layer), RDFS.label, Literal(\"Named Graph Ontology\", lang='en')))\n",
    "\n",
    "ng.add((URIRef(f\"{named_graph_layer}NamedGraph\") , RDF.type, OWL.Class))\n",
    "ng.add((URIRef(f\"{named_graph_layer}NamedGraph\") , RDFS.label, Literal(\"Named Graph\", lang='en')))\n",
    "\n",
    "ng.add((URIRef(f\"{named_graph_layer}has_classification\") , RDF.type, OWL.AnnotationProperty))\n",
    "ng.add((URIRef(f\"{named_graph_layer}has_classification\") , RDFS.label, Literal(\"has classification\", lang='en')))\n",
    "\n",
    "ng.add((URIRef(f\"{named_graph_layer}member_of_graph\") , RDF.type, OWL.AnnotationProperty))\n",
    "ng.add((URIRef(f\"{named_graph_layer}member_of_graph\") , RDFS.label, Literal(\"member of graph\", lang='en')))\n",
    "\n",
    "ng.add((URIRef(f\"{named_graph_layer}has_subgraph\") , RDF.type, OWL.ObjectProperty))\n",
    "ng.add((URIRef(f\"{named_graph_layer}has_subgraph\") , RDFS.label, Literal(\"has subgraph\", lang='en')))\n",
    "ng.add((URIRef(f\"{named_graph_layer}has_subgraph\") , RDFS.domain, URIRef(f\"{named_graph_layer}NamedGraph\")))\n",
    "ng.add((URIRef(f\"{named_graph_layer}has_subgraph\") , RDFS.range, URIRef(f\"{named_graph_layer}NamedGraph\")))\n",
    "#print(ng.serialize())\n",
    "classifier = build_namespace_from_graph(ng)"
   ]
  },
  {
   "cell_type": "code",
   "execution_count": 74,
   "id": "47fa7eef-5c8c-4a5c-aa60-c65863993e21",
   "metadata": {},
   "outputs": [
    {
     "name": "stdout",
     "output_type": "stream",
     "text": [
      "43\n"
     ]
    }
   ],
   "source": [
    "g = Graph()\n",
    "model = Namespace(\"https://cco_test.com/model/\")\n",
    "g.add((model.Act_of_Medical_Care_Delivery, RDFS.subClassOf , CCO.process))\n",
    "g.add((model.s99skjksdjljkerj, RDF.type, model.Act_of_Medical_Care_Delivery) ) \n",
    "g.add((model.Joe, RDF.type , CCO.Person))\n",
    "g.add((model.DrBob, RDF.type , CCO.Person))\n",
    "g.add((model.NurseMaude, RDF.type, CCO.Person))\n",
    "g.add((model.Joe, RDF.type , OWL.NamedIndividual))\n",
    "g.add((model.DrBob, RDF.type , OWL.NamedIndividual))\n",
    "g.add((model.NurseMaude, RDF.type, OWL.NamedIndividual))\n",
    "## roles\n",
    "g.add((model.WellVisitPhysicianProviderRole, RDF.type, OWL.Class))\n",
    "g.add((model.WellVisitPhysicianProviderRole, RDFS.subClassOf, CCO.role))\n",
    "g.add((model.WellVisitNursingProviderRole, RDF.type, OWL.Class))\n",
    "g.add((model.WellVisitNursingProviderRole, RDFS.subClassOf, cco.role))\n",
    "g.add((model.WellVisitCareConsumer, RDF.type, OWL.Class))\n",
    "g.add((model.WellVisitCareConsumer, RDFS.subClassOf, CCO.role))\n",
    "rst_1 = BNode()\n",
    "rst_2 = BNode()\n",
    "rst_3 = BNode()\n",
    "g.add((rst_1, RDF.type, OWL.Restriction))\n",
    "g.add((rst_1, OWL.onProperty, CCO.realized_in))\n",
    "g.add((rst_1, OWL.someValuesFrom, model.Act_of_Medical_Care_Delivery))\n",
    "g.add((rst_2, RDF.type, OWL.Restriction))\n",
    "g.add((rst_2, OWL.onProperty, CCO.realized_in))\n",
    "g.add((rst_2, OWL.someValuesFrom, model.Act_of_Medical_Care_Delivery))\n",
    "g.add((rst_3, RDF.type, OWL.Restriction))\n",
    "g.add((rst_3, OWL.onProperty, CCO.realized_in))\n",
    "g.add((rst_3, OWL.someValuesFrom, model.Act_of_Medical_Care_Delivery))\n",
    "\n",
    "\n",
    "g.add((model.Joe_patient, RDF.type , model.WellVisitCareConsumer))\n",
    "g.add((model.DrBob_MD_Provider, RDF.type , model.WellVisitPhysicianProviderRole))\n",
    "g.add((model.NurseMaude_Nurse_Provider, RDF.type, model.WellVisitNursingProviderRole))\n",
    "\n",
    "g.add((model.Joe, CCO.bearer_of , model.Joe_patient))\n",
    "g.add((model.DrBob, CCO.bearer_of , model.DrBob_MD_Provider))\n",
    "g.add((model.NurseMaude, CCO.bearer_of, model.NurseMaude_Nurse_Provider))\n",
    "g.add((model.hcdelivered_well_visit, RDF.type, model.Act_of_Medical_Care_Delivery) ) \n",
    "g.add((model.hcdelivered_well_visit, RDF.type, model.Act_of_Medical_Care_Delivery) ) \n",
    "g.add((model.hcdelivered_well_visit, CCO.realizes, model.Joe_patient))\n",
    "g.add((model.hcdelivered_well_visit, CCO.realizes,model.DrBob_MD_Provider,))\n",
    "g.add((model.hcdelivered_well_visit, CCO.realizes,model.NurseMaude_Nurse_Provider))\n",
    "g.add((model.hcdelivered_well_visit, CCO.has_participant, model.Joe))\n",
    "g.add((model.hcdelivered_well_visit, CCO.has_participant,model.DrBob,))\n",
    "g.add((model.hcdelivered_well_visit, CCO.has_participant,model.NurseMaude))\n",
    "\n",
    "\n",
    "str_1 = BNode()\n",
    "st_start = BNode()\n",
    "st_end = BNode()\n",
    "g.add((st_start, RDF.type, CCO.zero_dimensional_spatial_region))\n",
    "g.add((st_end, RDF.type, CCO.zero_dimensional_spatial_region))\n",
    "g.add((st_start, CCO.has_datetime_value, Literal(\"2025-04-01T10:00:00\", datatype = XSD.dateTime) ))\n",
    "g.add((st_end, CCO.has_datetime_value, Literal(\"2025-04-01T11:00:00\", datatype = XSD.dateTime) ))\n",
    "\n",
    "g.add((model.hcdelivered_well_visit, CCO.occurs_on, str_1))\n",
    "g.add((str_1, CCO.interval_starts, st_start))\n",
    "g.add((str_1, CCO.interval_finishes, st_end))\n",
    "\n",
    "print(len(g))"
   ]
  },
  {
   "cell_type": "code",
   "execution_count": 69,
   "id": "9fe3fa2f-15e4-47de-b2a9-3cfaaf12769a",
   "metadata": {},
   "outputs": [],
   "source": [
    "gc = Namespace(\"https://example.com/classification/model/\")\n",
    "gc_model = Graph()\n",
    "## three random subgraphs\n",
    "gc_model.add((gc.class_1, RDF.type, classifier.Named_Graph))\n",
    "gc_model.add((gc.class_1, RDFS.label, Literal(\"Sensitivity 2\") ))\n",
    "gc_model.add((gc.class_2, RDF.type, classifier.Named_Graph))\n",
    "gc_model.add((gc.class_2, RDFS.label, Literal(\"Sensitivity 1\") ))\n",
    "gc_model.add((gc.class_3, RDF.type, classifier.Named_Graph))\n",
    "gc_model.add((gc.class_3, RDFS.label, Literal(\"Sensitivity 0\") ))\n",
    "\n",
    "gc_model.add((gc.class_3, classifier.has_classification, Literal(\"S//0\") ))\n",
    "gc_model.add((gc.class_2, classifier.has_classification, Literal(\"S//2\") ))\n",
    "gc_model.add((gc.class_1, classifier.has_classification, Literal(\"S//3\") ))\n",
    "\n",
    "## 1 top-level \n",
    "gc_model.add((gc.top_level_class, RDF.type, classifier.Named_Graph))\n",
    "gc_model.add((gc.document_classification, RDFS.label, Literal(\"Document Aggregate Classification\") ))\n",
    "gc_model.add((gc.document_classification, classifier.has_subgraph, gc.class_1))\n",
    "gc_model.add((gc.document_classification, classifier.has_subgraph, gc.class_2))\n",
    "gc_model.add((gc.document_classification, classifier.has_subgraph, gc.class_3))\n",
    "\n",
    "\n",
    "classifications = [gc.class_1, gc.class_2 ,gc.class_3]\n"
   ]
  },
  {
   "cell_type": "code",
   "execution_count": 70,
   "id": "31790164-a78b-4b5a-bbc6-696fa5dd0f8a",
   "metadata": {},
   "outputs": [],
   "source": [
    "import random\n",
    "for t in g:\n",
    "    \n",
    "    if  t[0] == OWL.Axiom  or t[0] == OWL.Axiom \\\n",
    "        or t[1] in [OWL.annotatedSource, OWL.annotatedSource, OWL.annotatedSource]  \\\n",
    "        or t[1] in classifier.values() \\\n",
    "        or t[0] in classifier.values() \\\n",
    "        or t[2] in classifier.values()  :      \n",
    "        continue\n",
    "        \n",
    "        \n",
    "    classification = classifications[random.randint(0,2)]\n",
    "    ax = BNode()\n",
    "    g.add((ax, classifier.member_of_graph ,classification))\n",
    "    g.add((ax , RDF.type, OWL.Axiom))\n",
    "    g.add((ax, OWL.annotatedSource, t[0]))\n",
    "    g.add((ax,  OWL.annotatedProperty, t[1]))   \n",
    "    g.add((ax, OWL.annotatedTarget, t[2]))       \n",
    "g += gc_model"
   ]
  },
  {
   "cell_type": "code",
   "execution_count": 71,
   "id": "8a65dabe-26cd-4af4-8cc0-84fe306849d3",
   "metadata": {},
   "outputs": [
    {
     "data": {
      "text/plain": [
       "15261"
      ]
     },
     "execution_count": 71,
     "metadata": {},
     "output_type": "execute_result"
    }
   ],
   "source": [
    "open('dr-visit-bfo-cco-classified_health_records.ttl','w').write( g.serialize(format = 'ttl') ) "
   ]
  }
 ],
 "metadata": {
  "kernelspec": {
   "display_name": "Python 3 (ipykernel)",
   "language": "python",
   "name": "python3"
  },
  "language_info": {
   "codemirror_mode": {
    "name": "ipython",
    "version": 3
   },
   "file_extension": ".py",
   "mimetype": "text/x-python",
   "name": "python",
   "nbconvert_exporter": "python",
   "pygments_lexer": "ipython3",
   "version": "3.9.7"
  }
 },
 "nbformat": 4,
 "nbformat_minor": 5
}
