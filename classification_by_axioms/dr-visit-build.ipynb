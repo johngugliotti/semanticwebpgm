{
 "cells": [
  {
   "cell_type": "code",
   "execution_count": 83,
   "id": "47fa7eef-5c8c-4a5c-aa60-c65863993e21",
   "metadata": {},
   "outputs": [
    {
     "data": {
      "text/plain": [
       "6723"
      ]
     },
     "execution_count": 83,
     "metadata": {},
     "output_type": "execute_result"
    }
   ],
   "source": [
    "from rdflib import *\n",
    "import re\n",
    "g = Graph()\n",
    " \n",
    "class DotDict(dict):\n",
    "    def __getattr__(self, key):\n",
    "        try:\n",
    "            return self[key]\n",
    "        except KeyError:\n",
    "            raise AttributeError(f\"'DotDict' object has no attribute '{key}'\")\n",
    "\n",
    "    def __setattr__(self, key, value):\n",
    "        self[key] = value\n",
    "        \n",
    "common_core = Graph().parse(\"/Users/johngugliotti/Documents/dev/CommonCoreOntologies/cco-merged/MergedAllCoreOntology-v1.4-2023-04-07.ttl\",format = 'ttl')\n",
    "def get_resource(label):\n",
    "    res = [r for r in common_core.query(f'SELECT * WHERE {{?r rdfs:label \"{label}\"@en; rdfs:label ?label}}')]\n",
    "    return {\"iri\": res[0].asdict().get(\"r\"), \"label\": re.sub(\"\\W+\",\"_\",res[0].get('label'))} \n",
    "    \n",
    "get_resource(\"one-dimensional temporal region\")\n",
    "\n",
    "model = Namespace(\"https://cco_test.com/model/\")\n",
    "def get_resources():\n",
    "    o = DotDict()\n",
    "    res = [r for r in common_core.query(f'SELECT * WHERE {{?r rdfs:label ?label}}')]\n",
    "    return DotDict({ re.sub(\"\\W+\",\"_\",r.asdict().get('label')) : r.get('r') for r in res}) \n",
    "    ##return {\"iri\": res[0].asdict().get(\"r\"), \"label\": re.sub(\"\\W+\",\"_\",res[0].get('label'))} \n",
    "CCO = get_resources()\n",
    "\n",
    "cco.editor_note, cco.role\n",
    "\n",
    "\n",
    "g.add((model.Act_of_Medical_Care_Delivery, RDFS.subClassOf , cco.process))\n",
    "g.add((model.s99skjksdjljkerj, RDF.type, model.Act_of_Medical_Care_Delivery) ) \n",
    "g.add((model.Joe, RDF.type , cco.Person))\n",
    "g.add((model.DrBob, RDF.type , cco.Person))\n",
    "g.add((model.NurseMaude, RDF.type, cco.Person))\n",
    "g.add((model.Joe_patient, RDF.type , cco.role))\n",
    "g.add((model.DrBob_MD_Provider, RDF.type , cco.role))\n",
    "g.add((model.NurseMaude_Nurse_Provider, RDF.type, cco.role))\n",
    "g.add((model.Joe, CCO.bearer_of , model.Joe_patient))\n",
    "g.add((model.DrBob, CCO.bearer_of , model.DrBob_MD_Provider))\n",
    "g.add((model.NurseMaude, CCO.bearer_of, model.NurseMaude_Nurse_Provider))\n",
    "g.add((model.hcdelivered_well_visit, RDF.type, model.Act_of_Medical_Care_Delivery) ) \n",
    "g.add((model.hcdelivered_well_visit, RDF.type, model.Act_of_Medical_Care_Delivery) ) \n",
    "g.add((model.hcdelivered_well_visit, CCO.realizes, model.Joe_patient))\n",
    "g.add((model.hcdelivered_well_visit, CCO.realizes,model.DrBob_MD_Provider,))\n",
    "g.add((model.hcdelivered_well_visit, CCO.realizes,model.NurseMaude_Nurse_Provider))\n",
    "g.add((model.hcdelivered_well_visit, CCO.has_participant, model.Joe))\n",
    "g.add((model.hcdelivered_well_visit, CCO.has_participant,model.DrBob,))\n",
    "g.add((model.hcdelivered_well_visit, CCO.has_participant,model.NurseMaude))\n",
    "\n",
    "str_1 = BNode()\n",
    "st_start = BNode()\n",
    "st_end = BNode()\n",
    "g.add((st_start, RDF.type, CCO.zero_dimensional_spatial_region))\n",
    "g.add((st_end, RDF.type, CCO.zero_dimensional_spatial_region))\n",
    "g.add((st_start, cco.has_datetime_value, Literal(\"2025-04-01T10:00:00\", datatype = XSD.dateTime) ))\n",
    "g.add((st_end, cco.has_datetime_value, Literal(\"2025-04-01T11:00:00\", datatype = XSD.dateTime) ))\n",
    "\n",
    "g.add((model.hcdelivered_well_visit, CCO.occurs_on, str_1))\n",
    "g.add((str_1, cco.interval_starts, st_start))\n",
    "g.add((str_1, cco.interval_finishes, st_end))\n",
    "\n",
    "for t in g:\n",
    "    ax = BNode()\n",
    "    \n",
    "    g.add((ax , RDF.type, OWL.Axiom))\n",
    "    g.add((ax, OWL.annotatedSource, t[0]))\n",
    "    g.add((ax,  OWL.annotatedProperty, t[1]))   \n",
    "    g.add((ax, OWL.annotatedTarget, t[2]))       \n",
    "\n",
    "open('dr-visit-bfo-cco.ttl','w').write( g.serialize(format = 'ttl') ) "
   ]
  },
  {
   "cell_type": "code",
   "execution_count": 77,
   "id": "b5e3ed88-0258-4248-a174-be411585fed5",
   "metadata": {},
   "outputs": [
    {
     "data": {
      "text/plain": [
       "rdflib.term.URIRef('http://www.w3.org/2002/07/owl#Axiom')"
      ]
     },
     "execution_count": 77,
     "metadata": {},
     "output_type": "execute_result"
    }
   ],
   "source": [
    "OWL.Axiom"
   ]
  },
  {
   "cell_type": "code",
   "execution_count": 79,
   "id": "5f6464eb-87eb-4529-b531-f931ba21731e",
   "metadata": {},
   "outputs": [
    {
     "data": {
      "text/plain": [
       "[rdflib.term.URIRef('http://www.w3.org/2002/07/owl#AllDifferent'),\n",
       " rdflib.term.URIRef('http://www.w3.org/2002/07/owl#AllDisjointClasses'),\n",
       " rdflib.term.URIRef('http://www.w3.org/2002/07/owl#AllDisjointProperties'),\n",
       " rdflib.term.URIRef('http://www.w3.org/2002/07/owl#Annotation'),\n",
       " rdflib.term.URIRef('http://www.w3.org/2002/07/owl#AnnotationProperty'),\n",
       " rdflib.term.URIRef('http://www.w3.org/2002/07/owl#AsymmetricProperty'),\n",
       " rdflib.term.URIRef('http://www.w3.org/2002/07/owl#Axiom'),\n",
       " rdflib.term.URIRef('http://www.w3.org/2002/07/owl#Class'),\n",
       " rdflib.term.URIRef('http://www.w3.org/2002/07/owl#DataRange'),\n",
       " rdflib.term.URIRef('http://www.w3.org/2002/07/owl#DatatypeProperty'),\n",
       " rdflib.term.URIRef('http://www.w3.org/2002/07/owl#DeprecatedClass'),\n",
       " rdflib.term.URIRef('http://www.w3.org/2002/07/owl#DeprecatedProperty'),\n",
       " rdflib.term.URIRef('http://www.w3.org/2002/07/owl#FunctionalProperty'),\n",
       " rdflib.term.URIRef('http://www.w3.org/2002/07/owl#InverseFunctionalProperty'),\n",
       " rdflib.term.URIRef('http://www.w3.org/2002/07/owl#IrreflexiveProperty'),\n",
       " rdflib.term.URIRef('http://www.w3.org/2002/07/owl#NamedIndividual'),\n",
       " rdflib.term.URIRef('http://www.w3.org/2002/07/owl#NegativePropertyAssertion'),\n",
       " rdflib.term.URIRef('http://www.w3.org/2002/07/owl#Nothing'),\n",
       " rdflib.term.URIRef('http://www.w3.org/2002/07/owl#ObjectProperty'),\n",
       " rdflib.term.URIRef('http://www.w3.org/2002/07/owl#Ontology'),\n",
       " rdflib.term.URIRef('http://www.w3.org/2002/07/owl#OntologyProperty'),\n",
       " rdflib.term.URIRef('http://www.w3.org/2002/07/owl#ReflexiveProperty'),\n",
       " rdflib.term.URIRef('http://www.w3.org/2002/07/owl#Restriction'),\n",
       " rdflib.term.URIRef('http://www.w3.org/2002/07/owl#SymmetricProperty'),\n",
       " rdflib.term.URIRef('http://www.w3.org/2002/07/owl#Thing'),\n",
       " rdflib.term.URIRef('http://www.w3.org/2002/07/owl#TransitiveProperty'),\n",
       " rdflib.term.URIRef('http://www.w3.org/2002/07/owl#allValuesFrom'),\n",
       " rdflib.term.URIRef('http://www.w3.org/2002/07/owl#annotatedProperty'),\n",
       " rdflib.term.URIRef('http://www.w3.org/2002/07/owl#annotatedSource'),\n",
       " rdflib.term.URIRef('http://www.w3.org/2002/07/owl#annotatedTarget'),\n",
       " rdflib.term.URIRef('http://www.w3.org/2002/07/owl#assertionProperty'),\n",
       " rdflib.term.URIRef('http://www.w3.org/2002/07/owl#backwardCompatibleWith'),\n",
       " rdflib.term.URIRef('http://www.w3.org/2002/07/owl#bottomDataProperty'),\n",
       " rdflib.term.URIRef('http://www.w3.org/2002/07/owl#bottomObjectProperty'),\n",
       " rdflib.term.URIRef('http://www.w3.org/2002/07/owl#cardinality'),\n",
       " rdflib.term.URIRef('http://www.w3.org/2002/07/owl#complementOf'),\n",
       " rdflib.term.URIRef('http://www.w3.org/2002/07/owl#datatypeComplementOf'),\n",
       " rdflib.term.URIRef('http://www.w3.org/2002/07/owl#deprecated'),\n",
       " rdflib.term.URIRef('http://www.w3.org/2002/07/owl#differentFrom'),\n",
       " rdflib.term.URIRef('http://www.w3.org/2002/07/owl#disjointUnionOf'),\n",
       " rdflib.term.URIRef('http://www.w3.org/2002/07/owl#disjointWith'),\n",
       " rdflib.term.URIRef('http://www.w3.org/2002/07/owl#distinctMembers'),\n",
       " rdflib.term.URIRef('http://www.w3.org/2002/07/owl#equivalentClass'),\n",
       " rdflib.term.URIRef('http://www.w3.org/2002/07/owl#equivalentProperty'),\n",
       " rdflib.term.URIRef('http://www.w3.org/2002/07/owl#hasKey'),\n",
       " rdflib.term.URIRef('http://www.w3.org/2002/07/owl#hasSelf'),\n",
       " rdflib.term.URIRef('http://www.w3.org/2002/07/owl#hasValue'),\n",
       " rdflib.term.URIRef('http://www.w3.org/2002/07/owl#imports'),\n",
       " rdflib.term.URIRef('http://www.w3.org/2002/07/owl#incompatibleWith'),\n",
       " rdflib.term.URIRef('http://www.w3.org/2002/07/owl#intersectionOf'),\n",
       " rdflib.term.URIRef('http://www.w3.org/2002/07/owl#inverseOf'),\n",
       " rdflib.term.URIRef('http://www.w3.org/2002/07/owl#maxCardinality'),\n",
       " rdflib.term.URIRef('http://www.w3.org/2002/07/owl#maxQualifiedCardinality'),\n",
       " rdflib.term.URIRef('http://www.w3.org/2002/07/owl#members'),\n",
       " rdflib.term.URIRef('http://www.w3.org/2002/07/owl#minCardinality'),\n",
       " rdflib.term.URIRef('http://www.w3.org/2002/07/owl#minQualifiedCardinality'),\n",
       " rdflib.term.URIRef('http://www.w3.org/2002/07/owl#onClass'),\n",
       " rdflib.term.URIRef('http://www.w3.org/2002/07/owl#onDataRange'),\n",
       " rdflib.term.URIRef('http://www.w3.org/2002/07/owl#onDatatype'),\n",
       " rdflib.term.URIRef('http://www.w3.org/2002/07/owl#onProperties'),\n",
       " rdflib.term.URIRef('http://www.w3.org/2002/07/owl#onProperty'),\n",
       " rdflib.term.URIRef('http://www.w3.org/2002/07/owl#oneOf'),\n",
       " rdflib.term.URIRef('http://www.w3.org/2002/07/owl#priorVersion'),\n",
       " rdflib.term.URIRef('http://www.w3.org/2002/07/owl#propertyChainAxiom'),\n",
       " rdflib.term.URIRef('http://www.w3.org/2002/07/owl#propertyDisjointWith'),\n",
       " rdflib.term.URIRef('http://www.w3.org/2002/07/owl#qualifiedCardinality'),\n",
       " rdflib.term.URIRef('http://www.w3.org/2002/07/owl#rational'),\n",
       " rdflib.term.URIRef('http://www.w3.org/2002/07/owl#real'),\n",
       " rdflib.term.URIRef('http://www.w3.org/2002/07/owl#sameAs'),\n",
       " rdflib.term.URIRef('http://www.w3.org/2002/07/owl#someValuesFrom'),\n",
       " rdflib.term.URIRef('http://www.w3.org/2002/07/owl#sourceIndividual'),\n",
       " rdflib.term.URIRef('http://www.w3.org/2002/07/owl#targetIndividual'),\n",
       " rdflib.term.URIRef('http://www.w3.org/2002/07/owl#targetValue'),\n",
       " rdflib.term.URIRef('http://www.w3.org/2002/07/owl#topDataProperty'),\n",
       " rdflib.term.URIRef('http://www.w3.org/2002/07/owl#topObjectProperty'),\n",
       " rdflib.term.URIRef('http://www.w3.org/2002/07/owl#unionOf'),\n",
       " rdflib.term.URIRef('http://www.w3.org/2002/07/owl#versionIRI'),\n",
       " rdflib.term.URIRef('http://www.w3.org/2002/07/owl#versionInfo'),\n",
       " rdflib.term.URIRef('http://www.w3.org/2002/07/owl#withRestrictions')]"
      ]
     },
     "execution_count": 79,
     "metadata": {},
     "output_type": "execute_result"
    }
   ],
   "source": [
    "dir(OWL)"
   ]
  },
  {
   "cell_type": "code",
   "execution_count": null,
   "id": "2ed131ad-bdf3-43c2-9afd-f585586ebe80",
   "metadata": {},
   "outputs": [],
   "source": []
  }
 ],
 "metadata": {
  "kernelspec": {
   "display_name": "Python 3 (ipykernel)",
   "language": "python",
   "name": "python3"
  },
  "language_info": {
   "codemirror_mode": {
    "name": "ipython",
    "version": 3
   },
   "file_extension": ".py",
   "mimetype": "text/x-python",
   "name": "python",
   "nbconvert_exporter": "python",
   "pygments_lexer": "ipython3",
   "version": "3.9.7"
  }
 },
 "nbformat": 4,
 "nbformat_minor": 5
}
