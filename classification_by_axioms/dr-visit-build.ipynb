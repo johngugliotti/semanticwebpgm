{
 "cells": [
  {
   "cell_type": "code",
   "execution_count": 74,
   "id": "47fa7eef-5c8c-4a5c-aa60-c65863993e21",
   "metadata": {},
   "outputs": [
    {
     "name": "stdout",
     "output_type": "stream",
     "text": [
      "@prefix ns1: <http://www.ontologyrepository.com/CommonCoreOntologies/> .\n",
      "@prefix ns2: <http://purl.obolibrary.org/obo/> .\n",
      "@prefix rdfs: <http://www.w3.org/2000/01/rdf-schema#> .\n",
      "@prefix xsd: <http://www.w3.org/2001/XMLSchema#> .\n",
      "\n",
      "<https://cco_test.com/model/hcdelivered_well_visit> a <https://cco_test.com/model/Act_of_Medical_Care_Delivery> ;\n",
      "    ns2:BFO_0000055 <https://cco_test.com/model/DrBob_MD_Provider>,\n",
      "        <https://cco_test.com/model/Joe_patient>,\n",
      "        <https://cco_test.com/model/NurseMaude_Nurse_Provider> ;\n",
      "    ns2:RO_0000057 <https://cco_test.com/model/DrBob>,\n",
      "        <https://cco_test.com/model/Joe>,\n",
      "        <https://cco_test.com/model/NurseMaude> ;\n",
      "    ns1:occurs_on [ ns1:interval_finishes [ a ns2:BFO_0000018 ;\n",
      "                    ns1:has_datetime_value \"2025-04-01T11:00:00\"^^xsd:dateTime ] ;\n",
      "            ns1:interval_starts [ a ns2:BFO_0000018 ;\n",
      "                    ns1:has_datetime_value \"2025-04-01T10:00:00\"^^xsd:dateTime ] ] .\n",
      "\n",
      "<https://cco_test.com/model/s99skjksdjljkerj> a <https://cco_test.com/model/Act_of_Medical_Care_Delivery> .\n",
      "\n",
      "<https://cco_test.com/model/DrBob> a ns1:Person ;\n",
      "    ns2:RO_0000053 <https://cco_test.com/model/DrBob_MD_Provider> .\n",
      "\n",
      "<https://cco_test.com/model/Joe> a ns1:Person ;\n",
      "    ns2:RO_0000053 <https://cco_test.com/model/Joe_patient> .\n",
      "\n",
      "<https://cco_test.com/model/NurseMaude> a ns1:Person ;\n",
      "    ns2:RO_0000053 <https://cco_test.com/model/NurseMaude_Nurse_Provider> .\n",
      "\n",
      "<https://cco_test.com/model/Act_of_Medical_Care_Delivery> rdfs:subClassOf ns2:BFO_0000015 .\n",
      "\n",
      "<https://cco_test.com/model/DrBob_MD_Provider> a ns2:BFO_0000023 .\n",
      "\n",
      "<https://cco_test.com/model/Joe_patient> a ns2:BFO_0000023 .\n",
      "\n",
      "<https://cco_test.com/model/NurseMaude_Nurse_Provider> a ns2:BFO_0000023 .\n",
      "\n",
      "\n"
     ]
    }
   ],
   "source": [
    "from rdflib import *\n",
    "import re\n",
    "g = Graph()\n",
    " \n",
    "class DotDict(dict):\n",
    "    def __getattr__(self, key):\n",
    "        try:\n",
    "            return self[key]\n",
    "        except KeyError:\n",
    "            raise AttributeError(f\"'DotDict' object has no attribute '{key}'\")\n",
    "\n",
    "    def __setattr__(self, key, value):\n",
    "        self[key] = value\n",
    "        \n",
    "common_core = Graph().parse(\"/Users/johngugliotti/Documents/dev/CommonCoreOntologies/cco-merged/MergedAllCoreOntology-v1.4-2023-04-07.ttl\",format = 'ttl')\n",
    "def get_resource(label):\n",
    "    res = [r for r in common_core.query(f'SELECT * WHERE {{?r rdfs:label \"{label}\"@en; rdfs:label ?label}}')]\n",
    "    return {\"iri\": res[0].asdict().get(\"r\"), \"label\": re.sub(\"\\W+\",\"_\",res[0].get('label'))} \n",
    "    \n",
    "get_resource(\"one-dimensional temporal region\")\n",
    "\n",
    "model = Namespace(\"https://cco_test.com/model/\")\n",
    "def get_resources():\n",
    "    o = DotDict()\n",
    "    res = [r for r in common_core.query(f'SELECT * WHERE {{?r rdfs:label ?label}}')]\n",
    "    return DotDict({ re.sub(\"\\W+\",\"_\",r.asdict().get('label')) : r.get('r') for r in res}) \n",
    "    ##return {\"iri\": res[0].asdict().get(\"r\"), \"label\": re.sub(\"\\W+\",\"_\",res[0].get('label'))} \n",
    "CCO = get_resources()\n",
    "\n",
    "cco.editor_note, cco.role\n",
    "g.add((model.Act_of_Medical_Care_Delivery, RDFS.subClassOf , cco.process))\n",
    "g.add((model.s99skjksdjljkerj, RDF.type, model.Act_of_Medical_Care_Delivery) ) \n",
    "g.add((model.Joe, RDF.type , cco.Person))\n",
    "g.add((model.DrBob, RDF.type , cco.Person))\n",
    "g.add((model.NurseMaude, RDF.type, cco.Person))\n",
    "g.add((model.Joe_patient, RDF.type , cco.role))\n",
    "g.add((model.DrBob_MD_Provider, RDF.type , cco.role))\n",
    "g.add((model.NurseMaude_Nurse_Provider, RDF.type, cco.role))\n",
    "g.add((model.Joe, CCO.bearer_of , model.Joe_patient))\n",
    "g.add((model.DrBob, CCO.bearer_of , model.DrBob_MD_Provider))\n",
    "g.add((model.NurseMaude, CCO.bearer_of, model.NurseMaude_Nurse_Provider))\n",
    "g.add((model.hcdelivered_well_visit, RDF.type, model.Act_of_Medical_Care_Delivery) ) \n",
    "g.add((model.hcdelivered_well_visit, RDF.type, model.Act_of_Medical_Care_Delivery) ) \n",
    "g.add((model.hcdelivered_well_visit, CCO.realizes, model.Joe_patient))\n",
    "g.add((model.hcdelivered_well_visit, CCO.realizes,model.DrBob_MD_Provider,))\n",
    "g.add((model.hcdelivered_well_visit, CCO.realizes,model.NurseMaude_Nurse_Provider))\n",
    "g.add((model.hcdelivered_well_visit, CCO.has_participant, model.Joe))\n",
    "g.add((model.hcdelivered_well_visit, CCO.has_participant,model.DrBob,))\n",
    "g.add((model.hcdelivered_well_visit, CCO.has_participant,model.NurseMaude))\n",
    "\n",
    "str_1 = BNode()\n",
    "st_start = BNode()\n",
    "st_end = BNode()\n",
    "g.add((st_start, RDF.type, CCO.zero_dimensional_spatial_region))\n",
    "g.add((st_end, RDF.type, CCO.zero_dimensional_spatial_region))\n",
    "g.add((st_start, cco.has_datetime_value, Literal(\"2025-04-01T10:00:00\", datatype = XSD.dateTime) ))\n",
    "g.add((st_end, cco.has_datetime_value, Literal(\"2025-04-01T11:00:00\", datatype = XSD.dateTime) ))\n",
    "\n",
    "g.add((model.hcdelivered_well_visit, CCO.occurs_on, str_1))\n",
    "g.add((str_1, cco.interval_starts, st_start))\n",
    "g.add((str_1, cco.interval_finishes, st_end))\n",
    "\n",
    "print( g.serialize(format = 'ttl') ) "
   ]
  },
  {
   "cell_type": "code",
   "execution_count": 2,
   "id": "e648d6d6-3500-4c9a-8630-56e150ebdec2",
   "metadata": {},
   "outputs": [
    {
     "name": "stdout",
     "output_type": "stream",
     "text": [
      "/Users/johngugliotti/Documents/dev/CommonCoreOntologies/cco-merged/MergedAllCoreOntology-v1.4-2023-04-07.ttl\n"
     ]
    }
   ],
   "source": [
    "!ls /Users/johngugliotti/Documents/dev/CommonCoreOntologies/cco-merged/MergedAllCoreOntology-v1.4-2023-04-07.ttl"
   ]
  },
  {
   "cell_type": "code",
   "execution_count": 17,
   "id": "0232b8ee-d486-4e52-93a9-cd3f398c74f6",
   "metadata": {},
   "outputs": [],
   "source": [
    "person = URIRef('http://www.ontologyrepository.com/CommonCoreOntologies/Person')\n",
    "process = URIRef('http://purl.obolibrary.org/obo/BFO_0000015')\n",
    "temporal_region = URIRef('http://purl.obolibrary.org/obo/BFO_0000008')\n",
    "role = URIRef('http://purl.obolibrary.org/obo/BFO_0000023') \n"
   ]
  },
  {
   "cell_type": "code",
   "execution_count": 69,
   "id": "27b2da60-f8b8-43c8-b13e-5d52f8021fac",
   "metadata": {},
   "outputs": [
    {
     "ename": "AttributeError",
     "evalue": "'DotDict' object has no attribute 'finieh_at'",
     "output_type": "error",
     "traceback": [
      "\u001b[0;31m---------------------------------------------------------------------------\u001b[0m",
      "\u001b[0;31mKeyError\u001b[0m                                  Traceback (most recent call last)",
      "\u001b[0;32m/var/folders/5m/647w1mc96ml8djlrwq1nq21m0000gn/T/ipykernel_71703/34024997.py\u001b[0m in \u001b[0;36m__getattr__\u001b[0;34m(self, key)\u001b[0m\n\u001b[1;32m      7\u001b[0m         \u001b[0;32mtry\u001b[0m\u001b[0;34m:\u001b[0m\u001b[0;34m\u001b[0m\u001b[0;34m\u001b[0m\u001b[0m\n\u001b[0;32m----> 8\u001b[0;31m             \u001b[0;32mreturn\u001b[0m \u001b[0mself\u001b[0m\u001b[0;34m[\u001b[0m\u001b[0mkey\u001b[0m\u001b[0;34m]\u001b[0m\u001b[0;34m\u001b[0m\u001b[0;34m\u001b[0m\u001b[0m\n\u001b[0m\u001b[1;32m      9\u001b[0m         \u001b[0;32mexcept\u001b[0m \u001b[0mKeyError\u001b[0m\u001b[0;34m:\u001b[0m\u001b[0;34m\u001b[0m\u001b[0;34m\u001b[0m\u001b[0m\n",
      "\u001b[0;31mKeyError\u001b[0m: 'finieh_at'",
      "\nDuring handling of the above exception, another exception occurred:\n",
      "\u001b[0;31mAttributeError\u001b[0m                            Traceback (most recent call last)",
      "\u001b[0;32m/var/folders/5m/647w1mc96ml8djlrwq1nq21m0000gn/T/ipykernel_71703/1317597278.py\u001b[0m in \u001b[0;36m<module>\u001b[0;34m\u001b[0m\n\u001b[0;32m----> 1\u001b[0;31m \u001b[0mCCO\u001b[0m\u001b[0;34m.\u001b[0m\u001b[0mfinieh_at\u001b[0m\u001b[0;34m\u001b[0m\u001b[0;34m\u001b[0m\u001b[0m\n\u001b[0m",
      "\u001b[0;32m/var/folders/5m/647w1mc96ml8djlrwq1nq21m0000gn/T/ipykernel_71703/34024997.py\u001b[0m in \u001b[0;36m__getattr__\u001b[0;34m(self, key)\u001b[0m\n\u001b[1;32m      8\u001b[0m             \u001b[0;32mreturn\u001b[0m \u001b[0mself\u001b[0m\u001b[0;34m[\u001b[0m\u001b[0mkey\u001b[0m\u001b[0;34m]\u001b[0m\u001b[0;34m\u001b[0m\u001b[0;34m\u001b[0m\u001b[0m\n\u001b[1;32m      9\u001b[0m         \u001b[0;32mexcept\u001b[0m \u001b[0mKeyError\u001b[0m\u001b[0;34m:\u001b[0m\u001b[0;34m\u001b[0m\u001b[0;34m\u001b[0m\u001b[0m\n\u001b[0;32m---> 10\u001b[0;31m             \u001b[0;32mraise\u001b[0m \u001b[0mAttributeError\u001b[0m\u001b[0;34m(\u001b[0m\u001b[0;34mf\"'DotDict' object has no attribute '{key}'\"\u001b[0m\u001b[0;34m)\u001b[0m\u001b[0;34m\u001b[0m\u001b[0;34m\u001b[0m\u001b[0m\n\u001b[0m\u001b[1;32m     11\u001b[0m \u001b[0;34m\u001b[0m\u001b[0m\n\u001b[1;32m     12\u001b[0m     \u001b[0;32mdef\u001b[0m \u001b[0m__setattr__\u001b[0m\u001b[0;34m(\u001b[0m\u001b[0mself\u001b[0m\u001b[0;34m,\u001b[0m \u001b[0mkey\u001b[0m\u001b[0;34m,\u001b[0m \u001b[0mvalue\u001b[0m\u001b[0;34m)\u001b[0m\u001b[0;34m:\u001b[0m\u001b[0;34m\u001b[0m\u001b[0;34m\u001b[0m\u001b[0m\n",
      "\u001b[0;31mAttributeError\u001b[0m: 'DotDict' object has no attribute 'finieh_at'"
     ]
    }
   ],
   "source": [
    "CCO.finieh_at"
   ]
  },
  {
   "cell_type": "code",
   "execution_count": 75,
   "id": "0b868671-af68-49ae-86c7-71bc9dc6b629",
   "metadata": {},
   "outputs": [
    {
     "name": "stdout",
     "output_type": "stream",
     "text": [
      "/Users/johngugliotti/Documents/dev/semanticwebpgm/classification_by_axioms\n"
     ]
    }
   ],
   "source": [
    "!pwd"
   ]
  },
  {
   "cell_type": "code",
   "execution_count": null,
   "id": "5a0dcb2d-83d7-4c10-8e75-114297cb1a4a",
   "metadata": {},
   "outputs": [],
   "source": []
  }
 ],
 "metadata": {
  "kernelspec": {
   "display_name": "Python 3 (ipykernel)",
   "language": "python",
   "name": "python3"
  },
  "language_info": {
   "codemirror_mode": {
    "name": "ipython",
    "version": 3
   },
   "file_extension": ".py",
   "mimetype": "text/x-python",
   "name": "python",
   "nbconvert_exporter": "python",
   "pygments_lexer": "ipython3",
   "version": "3.9.7"
  }
 },
 "nbformat": 4,
 "nbformat_minor": 5
}
